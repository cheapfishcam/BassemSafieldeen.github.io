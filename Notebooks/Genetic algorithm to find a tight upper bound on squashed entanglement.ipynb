{
 "cells": [
  {
   "cell_type": "markdown",
   "metadata": {},
   "source": [
    "### This genetic algorithm is an adaptation of [MourvanZhou's evolutionary algorithm code](https://github.com/MorvanZhou/Evolutionary-Algorithm/blob/master/tutorial-contents/Genetic%20Algorithm/Genetic%20Algorithm%20Basic.py) ###"
   ]
  },
  {
   "cell_type": "markdown",
   "metadata": {},
   "source": [
    "## Squashed entanglement of a state ###"
   ]
  },
  {
   "cell_type": "markdown",
   "metadata": {},
   "source": [
    "#### Imports"
   ]
  },
  {
   "cell_type": "code",
   "execution_count": 5,
   "metadata": {},
   "outputs": [
    {
     "name": "stdout",
     "output_type": "stream",
     "text": [
      "Using matplotlib backend: Qt5Agg\n"
     ]
    }
   ],
   "source": [
    "from qutip import *\n",
    "from scipy import arcsin, sqrt, pi\n",
    "import numpy as np\n",
    "import scipy.sparse as sp\n",
    "from qutip.qobj import Qobj\n",
    "%matplotlib\n",
    "import matplotlib.pyplot as plt\n",
    "import itertools\n",
    "import copy"
   ]
  },
  {
   "cell_type": "markdown",
   "metadata": {},
   "source": [
    "#### Defining some fuctions"
   ]
  },
  {
   "cell_type": "code",
   "execution_count": 74,
   "metadata": {},
   "outputs": [],
   "source": [
    "#rhoABE is a tripartite density matrix with the third subsystem being the ancilla (ancilla is bi-partite when I was\n",
    "#trying the anti-symmetrix state)\n",
    "def cond_entropy_mutual(rhoABE):  \n",
    "    AE = rhoABE.ptrace([0, 2, 3]);\n",
    "    BE = rhoABE.ptrace([1, 2, 3]);\n",
    "    ABE = rhoABE;\n",
    "    E = rhoABE.ptrace([2, 3]);\n",
    "    return entropy_vn(AE,2) + entropy_vn(BE,2) - entropy_vn(ABE,2) - entropy_vn(E,2); \n",
    "\n",
    "\n",
    "def rand_herm_mod(N, X, Y, density=1, dims=None):      #this is a modified version of the rand_herm function from QuTip\n",
    "    if dims:\n",
    "        _check_dims(dims, N, N)\n",
    "    # to get appropriate density of output\n",
    "    # Hermitian operator must convert via:\n",
    "    herm_density = 2.0 * arcsin(density) / pi\n",
    "\n",
    "    X_int = sp.rand(N, N, herm_density, format='csr')\n",
    "    X_int.data = X - 0.5\n",
    "    Y_int = X_int.copy()\n",
    "    Y_int.data = 1.0j * Y - (0.5 + 0.5j)\n",
    "    X_int = X_int + Y_int\n",
    "    X_int.sort_indices()\n",
    "    X_int = Qobj(X_int)\n",
    "    if dims:\n",
    "        return Qobj((X_int + X_int.dag()) / 2.0, dims=dims, shape=[N, N])\n",
    "    else:\n",
    "        return Qobj((X_int + X_int.dag()) / 2.0)\n",
    "    \n",
    "\n",
    "def rand_unitary_mod(N, X, Y, density=1, dims=None):    #this is a modified version of the rand_unitary function from QuTip\n",
    "    #if dims:\n",
    "    #    _check_dims(dims, N, N)\n",
    "    U = (-1.0j * rand_herm_mod(N, X, Y, density)).expm()\n",
    "    U.data.sort_indices()\n",
    "    if dims:\n",
    "        return Qobj(U, dims=dims, shape=[N, N])\n",
    "    else:\n",
    "        return Qobj(U)\n",
    "\n",
    "\n",
    "    \n",
    "def _check_dims(dims, N1, N2):   #this function is taken directly from QuTip\n",
    "    if len(dims) != 2:\n",
    "        raise Exception(\"Qobj dimensions must be list of length 2.\")\n",
    "    if (not isinstance(dims[0], list)) or (not isinstance(dims[1], list)):\n",
    "        raise TypeError(\n",
    "            \"Qobj dimension components must be lists. i.e. dims=[[N],[N]]\")\n",
    "    if np.prod(dims[0]) != N1 or np.prod(dims[1]) != N2:\n",
    "        raise ValueError(\"Qobj dimensions must match matrix shape.\")\n",
    "    if len(dims[0]) != len(dims[1]):\n",
    "        raise TypeError(\"Qobj dimension components must have same length.\")\n",
    "        \n",
    "\n",
    "\n",
    "def purify(rhoAB): #returns a purification of the input state. The returned pure state has dims A_dim, B_dim, A_dim, B_dim\n",
    "    X = rhoAB.eigenstates()\n",
    "    PsiABE = 0\n",
    "    for i in range(len(X[0])):\n",
    "        PsiABE = PsiABE + np.sqrt(X[0][i]) * tensor(X[1][i], X[1][i])\n",
    "    return PsiABE.unit()"
   ]
  },
  {
   "cell_type": "markdown",
   "metadata": {},
   "source": [
    "#### The adapted genetic algorithm. \n",
    "#### Each individual in the population is a list of two lists X and Y that seed a unitary."
   ]
  },
  {
   "cell_type": "markdown",
   "metadata": {},
   "source": [
    "Define the input state in this cell"
   ]
  },
  {
   "cell_type": "code",
   "execution_count": 71,
   "metadata": {},
   "outputs": [],
   "source": [
    "#-------The completely anti-symmetric state. see (page 4, Christandl and Winter 2003)\n",
    "A_dim = 3\n",
    "B_dim = 3\n",
    "F_dim = 2\n",
    "\n",
    "N = A_dim * B_dim * F_dim\n",
    "\n",
    "ket1 = (tensor(basis(3,1),basis(3,2)) - tensor(basis(3,2),basis(3,1))).unit()\n",
    "ket2 = (tensor(basis(3,2),basis(3,0)) - tensor(basis(3,0),basis(3,2))).unit()\n",
    "ket3 = (tensor(basis(3,0),basis(3,1)) - tensor(basis(3,1),basis(3,0))).unit()\n",
    "rhoAB = (ket1*ket1.dag() + ket2*ket2.dag() + ket3*ket3.dag()).unit()\n",
    "\n",
    "ket_pure_ABE = purify(rhoAB)\n",
    "\n",
    "#ket_pure_ABE = (tensor(ket1, ket1) + tensor(ket2, ket2) + tensor(ket3, ket3)).unit()\n",
    "temp_psi_ABEF = tensor(ket_pure_ABE, basis(F_dim,0))\n",
    "rhoABEF = ket2dm(temp_psi_ABEF)\n",
    "#-------------"
   ]
  },
  {
   "cell_type": "code",
   "execution_count": 73,
   "metadata": {},
   "outputs": [
    {
     "name": "stderr",
     "output_type": "stream",
     "text": [
      "C:\\Users\\basse\\Anaconda3\\envs\\qutip\\lib\\site-packages\\ipykernel_launcher.py:24: RuntimeWarning: invalid value encountered in true_divide\n",
      "C:\\Users\\basse\\Anaconda3\\envs\\qutip\\lib\\site-packages\\ipykernel_launcher.py:24: RuntimeWarning: invalid value encountered in less\n"
     ]
    },
    {
     "ename": "KeyboardInterrupt",
     "evalue": "",
     "output_type": "error",
     "traceback": [
      "\u001b[1;31m---------------------------------------------------------------------------\u001b[0m",
      "\u001b[1;31mKeyboardInterrupt\u001b[0m                         Traceback (most recent call last)",
      "\u001b[1;32m<ipython-input-73-a5ce68fdaa47>\u001b[0m in \u001b[0;36m<module>\u001b[1;34m()\u001b[0m\n\u001b[0;32m     59\u001b[0m \u001b[1;33m\u001b[0m\u001b[0m\n\u001b[0;32m     60\u001b[0m \u001b[1;32mfor\u001b[0m \u001b[0m_\u001b[0m \u001b[1;32min\u001b[0m \u001b[0mrange\u001b[0m\u001b[1;33m(\u001b[0m\u001b[0mN_GENERATIONS\u001b[0m\u001b[1;33m)\u001b[0m\u001b[1;33m:\u001b[0m\u001b[1;33m\u001b[0m\u001b[0m\n\u001b[1;32m---> 61\u001b[1;33m     \u001b[0mF_values\u001b[0m \u001b[1;33m=\u001b[0m \u001b[0mF\u001b[0m\u001b[1;33m(\u001b[0m\u001b[0mtranslateDNA\u001b[0m\u001b[1;33m(\u001b[0m\u001b[0mpop\u001b[0m\u001b[1;33m)\u001b[0m\u001b[1;33m)\u001b[0m    \u001b[1;31m# compute function value by extracting DNA\u001b[0m\u001b[1;33m\u001b[0m\u001b[0m\n\u001b[0m\u001b[0;32m     62\u001b[0m     \u001b[0mcmi_list\u001b[0m\u001b[1;33m.\u001b[0m\u001b[0mappend\u001b[0m\u001b[1;33m(\u001b[0m\u001b[0mnp\u001b[0m\u001b[1;33m.\u001b[0m\u001b[0mmax\u001b[0m\u001b[1;33m(\u001b[0m\u001b[0mF_values\u001b[0m\u001b[1;33m)\u001b[0m\u001b[1;33m)\u001b[0m\u001b[1;33m\u001b[0m\u001b[0m\n\u001b[0;32m     63\u001b[0m     \u001b[1;31m#-------plot\u001b[0m\u001b[1;33m\u001b[0m\u001b[1;33m\u001b[0m\u001b[0m\n",
      "\u001b[1;32m<ipython-input-73-a5ce68fdaa47>\u001b[0m in \u001b[0;36mtranslateDNA\u001b[1;34m(pop)\u001b[0m\n\u001b[0;32m     17\u001b[0m     \u001b[0mZ\u001b[0m \u001b[1;33m=\u001b[0m \u001b[0mpop\u001b[0m\u001b[1;33m.\u001b[0m\u001b[0mdot\u001b[0m\u001b[1;33m(\u001b[0m\u001b[1;36m2\u001b[0m \u001b[1;33m**\u001b[0m \u001b[0mnp\u001b[0m\u001b[1;33m.\u001b[0m\u001b[0marange\u001b[0m\u001b[1;33m(\u001b[0m\u001b[0mDNA_SIZE\u001b[0m\u001b[1;33m)\u001b[0m\u001b[1;33m[\u001b[0m\u001b[1;33m:\u001b[0m\u001b[1;33m:\u001b[0m\u001b[1;33m-\u001b[0m\u001b[1;36m1\u001b[0m\u001b[1;33m]\u001b[0m\u001b[1;33m)\u001b[0m \u001b[1;33m/\u001b[0m \u001b[1;33m(\u001b[0m\u001b[1;36m2\u001b[0m\u001b[1;33m**\u001b[0m\u001b[0mDNA_SIZE\u001b[0m\u001b[1;33m-\u001b[0m\u001b[1;36m1\u001b[0m\u001b[1;33m)\u001b[0m\u001b[1;33m\u001b[0m\u001b[0m\n\u001b[0;32m     18\u001b[0m     return np.array([rand_unitary_mod(N, Z[i,0], Z[i,1], density=1, dims=[[A_dim,B_dim, F_dim], [A_dim,B_dim, F_dim]])  \n\u001b[1;32m---> 19\u001b[1;33m                      for i in range(POP_SIZE)])   #The unitary has dims [A_dim, B_dim, F_dim] because the purifying system has dims\n\u001b[0m\u001b[0;32m     20\u001b[0m \u001b[1;31m#[A_dim, B_dim]\u001b[0m\u001b[1;33m\u001b[0m\u001b[1;33m\u001b[0m\u001b[0m\n\u001b[0;32m     21\u001b[0m \u001b[1;33m\u001b[0m\u001b[0m\n",
      "\u001b[1;32m<ipython-input-73-a5ce68fdaa47>\u001b[0m in \u001b[0;36m<listcomp>\u001b[1;34m(.0)\u001b[0m\n\u001b[0;32m     17\u001b[0m     \u001b[0mZ\u001b[0m \u001b[1;33m=\u001b[0m \u001b[0mpop\u001b[0m\u001b[1;33m.\u001b[0m\u001b[0mdot\u001b[0m\u001b[1;33m(\u001b[0m\u001b[1;36m2\u001b[0m \u001b[1;33m**\u001b[0m \u001b[0mnp\u001b[0m\u001b[1;33m.\u001b[0m\u001b[0marange\u001b[0m\u001b[1;33m(\u001b[0m\u001b[0mDNA_SIZE\u001b[0m\u001b[1;33m)\u001b[0m\u001b[1;33m[\u001b[0m\u001b[1;33m:\u001b[0m\u001b[1;33m:\u001b[0m\u001b[1;33m-\u001b[0m\u001b[1;36m1\u001b[0m\u001b[1;33m]\u001b[0m\u001b[1;33m)\u001b[0m \u001b[1;33m/\u001b[0m \u001b[1;33m(\u001b[0m\u001b[1;36m2\u001b[0m\u001b[1;33m**\u001b[0m\u001b[0mDNA_SIZE\u001b[0m\u001b[1;33m-\u001b[0m\u001b[1;36m1\u001b[0m\u001b[1;33m)\u001b[0m\u001b[1;33m\u001b[0m\u001b[0m\n\u001b[0;32m     18\u001b[0m     return np.array([rand_unitary_mod(N, Z[i,0], Z[i,1], density=1, dims=[[A_dim,B_dim, F_dim], [A_dim,B_dim, F_dim]])  \n\u001b[1;32m---> 19\u001b[1;33m                      for i in range(POP_SIZE)])   #The unitary has dims [A_dim, B_dim, F_dim] because the purifying system has dims\n\u001b[0m\u001b[0;32m     20\u001b[0m \u001b[1;31m#[A_dim, B_dim]\u001b[0m\u001b[1;33m\u001b[0m\u001b[1;33m\u001b[0m\u001b[0m\n\u001b[0;32m     21\u001b[0m \u001b[1;33m\u001b[0m\u001b[0m\n",
      "\u001b[1;32m<ipython-input-70-0b9e26e9ad58>\u001b[0m in \u001b[0;36mrand_unitary_mod\u001b[1;34m(N, X, Y, density, dims)\u001b[0m\n\u001b[0;32m     32\u001b[0m     \u001b[1;31m#if dims:\u001b[0m\u001b[1;33m\u001b[0m\u001b[1;33m\u001b[0m\u001b[0m\n\u001b[0;32m     33\u001b[0m     \u001b[1;31m#    _check_dims(dims, N, N)\u001b[0m\u001b[1;33m\u001b[0m\u001b[1;33m\u001b[0m\u001b[0m\n\u001b[1;32m---> 34\u001b[1;33m     \u001b[0mU\u001b[0m \u001b[1;33m=\u001b[0m \u001b[1;33m(\u001b[0m\u001b[1;33m-\u001b[0m\u001b[1;36m1.0j\u001b[0m \u001b[1;33m*\u001b[0m \u001b[0mrand_herm_mod\u001b[0m\u001b[1;33m(\u001b[0m\u001b[0mN\u001b[0m\u001b[1;33m,\u001b[0m \u001b[0mX\u001b[0m\u001b[1;33m,\u001b[0m \u001b[0mY\u001b[0m\u001b[1;33m,\u001b[0m \u001b[0mdensity\u001b[0m\u001b[1;33m)\u001b[0m\u001b[1;33m)\u001b[0m\u001b[1;33m.\u001b[0m\u001b[0mexpm\u001b[0m\u001b[1;33m(\u001b[0m\u001b[1;33m)\u001b[0m\u001b[1;33m\u001b[0m\u001b[0m\n\u001b[0m\u001b[0;32m     35\u001b[0m     \u001b[0mU\u001b[0m\u001b[1;33m.\u001b[0m\u001b[0mdata\u001b[0m\u001b[1;33m.\u001b[0m\u001b[0msort_indices\u001b[0m\u001b[1;33m(\u001b[0m\u001b[1;33m)\u001b[0m\u001b[1;33m\u001b[0m\u001b[0m\n\u001b[0;32m     36\u001b[0m     \u001b[1;32mif\u001b[0m \u001b[0mdims\u001b[0m\u001b[1;33m:\u001b[0m\u001b[1;33m\u001b[0m\u001b[0m\n",
      "\u001b[1;32m<ipython-input-70-0b9e26e9ad58>\u001b[0m in \u001b[0;36mrand_herm_mod\u001b[1;34m(N, X, Y, density, dims)\u001b[0m\n\u001b[0;32m     16\u001b[0m     \u001b[0mherm_density\u001b[0m \u001b[1;33m=\u001b[0m \u001b[1;36m2.0\u001b[0m \u001b[1;33m*\u001b[0m \u001b[0marcsin\u001b[0m\u001b[1;33m(\u001b[0m\u001b[0mdensity\u001b[0m\u001b[1;33m)\u001b[0m \u001b[1;33m/\u001b[0m \u001b[0mpi\u001b[0m\u001b[1;33m\u001b[0m\u001b[0m\n\u001b[0;32m     17\u001b[0m \u001b[1;33m\u001b[0m\u001b[0m\n\u001b[1;32m---> 18\u001b[1;33m     \u001b[0mX_int\u001b[0m \u001b[1;33m=\u001b[0m \u001b[0msp\u001b[0m\u001b[1;33m.\u001b[0m\u001b[0mrand\u001b[0m\u001b[1;33m(\u001b[0m\u001b[0mN\u001b[0m\u001b[1;33m,\u001b[0m \u001b[0mN\u001b[0m\u001b[1;33m,\u001b[0m \u001b[0mherm_density\u001b[0m\u001b[1;33m,\u001b[0m \u001b[0mformat\u001b[0m\u001b[1;33m=\u001b[0m\u001b[1;34m'csr'\u001b[0m\u001b[1;33m)\u001b[0m\u001b[1;33m\u001b[0m\u001b[0m\n\u001b[0m\u001b[0;32m     19\u001b[0m     \u001b[0mX_int\u001b[0m\u001b[1;33m.\u001b[0m\u001b[0mdata\u001b[0m \u001b[1;33m=\u001b[0m \u001b[0mX\u001b[0m \u001b[1;33m-\u001b[0m \u001b[1;36m0.5\u001b[0m\u001b[1;33m\u001b[0m\u001b[0m\n\u001b[0;32m     20\u001b[0m     \u001b[0mY_int\u001b[0m \u001b[1;33m=\u001b[0m \u001b[0mX_int\u001b[0m\u001b[1;33m.\u001b[0m\u001b[0mcopy\u001b[0m\u001b[1;33m(\u001b[0m\u001b[1;33m)\u001b[0m\u001b[1;33m\u001b[0m\u001b[0m\n",
      "\u001b[1;32m~\\Anaconda3\\envs\\qutip\\lib\\site-packages\\scipy\\sparse\\construct.py\u001b[0m in \u001b[0;36mrand\u001b[1;34m(m, n, density, format, dtype, random_state)\u001b[0m\n\u001b[0;32m    823\u001b[0m             [ 0.        ,  0.        ,  0.        ,  0.        ]])\n\u001b[0;32m    824\u001b[0m     \"\"\"\n\u001b[1;32m--> 825\u001b[1;33m     \u001b[1;32mreturn\u001b[0m \u001b[0mrandom\u001b[0m\u001b[1;33m(\u001b[0m\u001b[0mm\u001b[0m\u001b[1;33m,\u001b[0m \u001b[0mn\u001b[0m\u001b[1;33m,\u001b[0m \u001b[0mdensity\u001b[0m\u001b[1;33m,\u001b[0m \u001b[0mformat\u001b[0m\u001b[1;33m,\u001b[0m \u001b[0mdtype\u001b[0m\u001b[1;33m,\u001b[0m \u001b[0mrandom_state\u001b[0m\u001b[1;33m)\u001b[0m\u001b[1;33m\u001b[0m\u001b[0m\n\u001b[0m",
      "\u001b[1;32m~\\Anaconda3\\envs\\qutip\\lib\\site-packages\\scipy\\sparse\\construct.py\u001b[0m in \u001b[0;36mrandom\u001b[1;34m(m, n, density, format, dtype, random_state, data_rvs)\u001b[0m\n\u001b[0;32m    776\u001b[0m     \u001b[0mi\u001b[0m \u001b[1;33m=\u001b[0m \u001b[1;33m(\u001b[0m\u001b[0mind\u001b[0m \u001b[1;33m-\u001b[0m \u001b[0mj\u001b[0m \u001b[1;33m*\u001b[0m \u001b[0mm\u001b[0m\u001b[1;33m)\u001b[0m\u001b[1;33m.\u001b[0m\u001b[0mastype\u001b[0m\u001b[1;33m(\u001b[0m\u001b[0mtp\u001b[0m\u001b[1;33m)\u001b[0m\u001b[1;33m\u001b[0m\u001b[0m\n\u001b[0;32m    777\u001b[0m     \u001b[0mvals\u001b[0m \u001b[1;33m=\u001b[0m \u001b[0mdata_rvs\u001b[0m\u001b[1;33m(\u001b[0m\u001b[0mk\u001b[0m\u001b[1;33m)\u001b[0m\u001b[1;33m.\u001b[0m\u001b[0mastype\u001b[0m\u001b[1;33m(\u001b[0m\u001b[0mdtype\u001b[0m\u001b[1;33m)\u001b[0m\u001b[1;33m\u001b[0m\u001b[0m\n\u001b[1;32m--> 778\u001b[1;33m     \u001b[1;32mreturn\u001b[0m \u001b[0mcoo_matrix\u001b[0m\u001b[1;33m(\u001b[0m\u001b[1;33m(\u001b[0m\u001b[0mvals\u001b[0m\u001b[1;33m,\u001b[0m \u001b[1;33m(\u001b[0m\u001b[0mi\u001b[0m\u001b[1;33m,\u001b[0m \u001b[0mj\u001b[0m\u001b[1;33m)\u001b[0m\u001b[1;33m)\u001b[0m\u001b[1;33m,\u001b[0m \u001b[0mshape\u001b[0m\u001b[1;33m=\u001b[0m\u001b[1;33m(\u001b[0m\u001b[0mm\u001b[0m\u001b[1;33m,\u001b[0m \u001b[0mn\u001b[0m\u001b[1;33m)\u001b[0m\u001b[1;33m)\u001b[0m\u001b[1;33m.\u001b[0m\u001b[0masformat\u001b[0m\u001b[1;33m(\u001b[0m\u001b[0mformat\u001b[0m\u001b[1;33m)\u001b[0m\u001b[1;33m\u001b[0m\u001b[0m\n\u001b[0m\u001b[0;32m    779\u001b[0m \u001b[1;33m\u001b[0m\u001b[0m\n\u001b[0;32m    780\u001b[0m \u001b[1;33m\u001b[0m\u001b[0m\n",
      "\u001b[1;32m~\\Anaconda3\\envs\\qutip\\lib\\site-packages\\scipy\\sparse\\base.py\u001b[0m in \u001b[0;36masformat\u001b[1;34m(self, format)\u001b[0m\n\u001b[0;32m    285\u001b[0m             \u001b[1;32mreturn\u001b[0m \u001b[0mself\u001b[0m\u001b[1;33m\u001b[0m\u001b[0m\n\u001b[0;32m    286\u001b[0m         \u001b[1;32melse\u001b[0m\u001b[1;33m:\u001b[0m\u001b[1;33m\u001b[0m\u001b[0m\n\u001b[1;32m--> 287\u001b[1;33m             \u001b[1;32mreturn\u001b[0m \u001b[0mgetattr\u001b[0m\u001b[1;33m(\u001b[0m\u001b[0mself\u001b[0m\u001b[1;33m,\u001b[0m \u001b[1;34m'to'\u001b[0m \u001b[1;33m+\u001b[0m \u001b[0mformat\u001b[0m\u001b[1;33m)\u001b[0m\u001b[1;33m(\u001b[0m\u001b[1;33m)\u001b[0m\u001b[1;33m\u001b[0m\u001b[0m\n\u001b[0m\u001b[0;32m    288\u001b[0m \u001b[1;33m\u001b[0m\u001b[0m\n\u001b[0;32m    289\u001b[0m     \u001b[1;31m###################################################################\u001b[0m\u001b[1;33m\u001b[0m\u001b[1;33m\u001b[0m\u001b[0m\n",
      "\u001b[1;32m~\\Anaconda3\\envs\\qutip\\lib\\site-packages\\scipy\\sparse\\coo.py\u001b[0m in \u001b[0;36mtocsr\u001b[1;34m(self, copy)\u001b[0m\n\u001b[0;32m    347\u001b[0m             \u001b[0mx\u001b[0m \u001b[1;33m=\u001b[0m \u001b[0mcsr_matrix\u001b[0m\u001b[1;33m(\u001b[0m\u001b[1;33m(\u001b[0m\u001b[0mdata\u001b[0m\u001b[1;33m,\u001b[0m \u001b[0mindices\u001b[0m\u001b[1;33m,\u001b[0m \u001b[0mindptr\u001b[0m\u001b[1;33m)\u001b[0m\u001b[1;33m,\u001b[0m \u001b[0mshape\u001b[0m\u001b[1;33m=\u001b[0m\u001b[0mself\u001b[0m\u001b[1;33m.\u001b[0m\u001b[0mshape\u001b[0m\u001b[1;33m)\u001b[0m\u001b[1;33m\u001b[0m\u001b[0m\n\u001b[0;32m    348\u001b[0m             \u001b[1;32mif\u001b[0m \u001b[1;32mnot\u001b[0m \u001b[0mself\u001b[0m\u001b[1;33m.\u001b[0m\u001b[0mhas_canonical_format\u001b[0m\u001b[1;33m:\u001b[0m\u001b[1;33m\u001b[0m\u001b[0m\n\u001b[1;32m--> 349\u001b[1;33m                 \u001b[0mx\u001b[0m\u001b[1;33m.\u001b[0m\u001b[0msum_duplicates\u001b[0m\u001b[1;33m(\u001b[0m\u001b[1;33m)\u001b[0m\u001b[1;33m\u001b[0m\u001b[0m\n\u001b[0m\u001b[0;32m    350\u001b[0m             \u001b[1;32mreturn\u001b[0m \u001b[0mx\u001b[0m\u001b[1;33m\u001b[0m\u001b[0m\n\u001b[0;32m    351\u001b[0m \u001b[1;33m\u001b[0m\u001b[0m\n",
      "\u001b[1;32m~\\Anaconda3\\envs\\qutip\\lib\\site-packages\\scipy\\sparse\\compressed.py\u001b[0m in \u001b[0;36msum_duplicates\u001b[1;34m(self)\u001b[0m\n\u001b[0;32m   1007\u001b[0m         \u001b[1;32mif\u001b[0m \u001b[0mself\u001b[0m\u001b[1;33m.\u001b[0m\u001b[0mhas_canonical_format\u001b[0m\u001b[1;33m:\u001b[0m\u001b[1;33m\u001b[0m\u001b[0m\n\u001b[0;32m   1008\u001b[0m             \u001b[1;32mreturn\u001b[0m\u001b[1;33m\u001b[0m\u001b[0m\n\u001b[1;32m-> 1009\u001b[1;33m         \u001b[0mself\u001b[0m\u001b[1;33m.\u001b[0m\u001b[0msort_indices\u001b[0m\u001b[1;33m(\u001b[0m\u001b[1;33m)\u001b[0m\u001b[1;33m\u001b[0m\u001b[0m\n\u001b[0m\u001b[0;32m   1010\u001b[0m \u001b[1;33m\u001b[0m\u001b[0m\n\u001b[0;32m   1011\u001b[0m         \u001b[0mM\u001b[0m\u001b[1;33m,\u001b[0m \u001b[0mN\u001b[0m \u001b[1;33m=\u001b[0m \u001b[0mself\u001b[0m\u001b[1;33m.\u001b[0m\u001b[0m_swap\u001b[0m\u001b[1;33m(\u001b[0m\u001b[0mself\u001b[0m\u001b[1;33m.\u001b[0m\u001b[0mshape\u001b[0m\u001b[1;33m)\u001b[0m\u001b[1;33m\u001b[0m\u001b[0m\n",
      "\u001b[1;32m~\\Anaconda3\\envs\\qutip\\lib\\site-packages\\scipy\\sparse\\compressed.py\u001b[0m in \u001b[0;36msort_indices\u001b[1;34m(self)\u001b[0m\n\u001b[0;32m   1053\u001b[0m         \u001b[1;32mif\u001b[0m \u001b[1;32mnot\u001b[0m \u001b[0mself\u001b[0m\u001b[1;33m.\u001b[0m\u001b[0mhas_sorted_indices\u001b[0m\u001b[1;33m:\u001b[0m\u001b[1;33m\u001b[0m\u001b[0m\n\u001b[0;32m   1054\u001b[0m             _sparsetools.csr_sort_indices(len(self.indptr) - 1, self.indptr,\n\u001b[1;32m-> 1055\u001b[1;33m                                           self.indices, self.data)\n\u001b[0m\u001b[0;32m   1056\u001b[0m             \u001b[0mself\u001b[0m\u001b[1;33m.\u001b[0m\u001b[0mhas_sorted_indices\u001b[0m \u001b[1;33m=\u001b[0m \u001b[1;32mTrue\u001b[0m\u001b[1;33m\u001b[0m\u001b[0m\n\u001b[0;32m   1057\u001b[0m \u001b[1;33m\u001b[0m\u001b[0m\n",
      "\u001b[1;31mKeyboardInterrupt\u001b[0m: "
     ]
    }
   ],
   "source": [
    "DNA_SIZE = 40           # DNA length   # size of each number in the lists X and Y\n",
    "POP_SIZE = 100           # population size\n",
    "CROSS_RATE = 0.001         # mating probability (DNA crossover)\n",
    "MUTATION_RATE = 0.001    # mutation probability\n",
    "N_GENERATIONS = 1000\n",
    "\n",
    "\n",
    "def F(Us):\n",
    "    return 0.5 * np.array([cond_entropy_mutual((tensor(identity(A_dim), identity(B_dim), U) * rhoABEF * tensor(identity(A_dim), identity(B_dim), U).dag()).ptrace([0,1,2,3]) ) for U in Us]) \n",
    "\n",
    "    \n",
    "# find non-zero fitness for selection.\n",
    "def get_fitness(pred): return 1/pred - 1/np.max(pred)  #fitness is highest when cmi is lowest\n",
    "\n",
    "# convert binary DNA to decimal and normalize it to a range(0, 1). Modified: takes unitary seeding list. returns a Unitary\n",
    "def translateDNA(pop):\n",
    "    Z = pop.dot(2 ** np.arange(DNA_SIZE)[::-1]) / (2**DNA_SIZE-1)\n",
    "    return np.array([rand_unitary_mod(N, Z[i,0], Z[i,1], density=1, dims=[[A_dim,B_dim, F_dim], [A_dim,B_dim, F_dim]])  \n",
    "                     for i in range(POP_SIZE)])   #The unitary has dims [A_dim, B_dim, F_dim] because the purifying system has dims\n",
    "#[A_dim, B_dim]\n",
    "\n",
    "# nature selection wrt pop's fitness.\n",
    "def select(pop, fitness):    \n",
    "    idx = np.random.choice(np.arange(POP_SIZE), size=POP_SIZE, replace=True, p=fitness/fitness.sum())\n",
    "    return pop[idx]\n",
    "\n",
    "# mating process (genes crossover).\n",
    "def crossover_and_mutate(individual, pop, mutate=False):\n",
    "    #crossover\n",
    "    if np.random.rand() < CROSS_RATE:\n",
    "        i_ = np.random.randint(0, POP_SIZE, size=1)[0]                        # select another individual from pop\n",
    "        cross_points = np.random.randint(0, 2, size=DNA_SIZE*2*N**2).astype(bool).reshape((2,N**2,DNA_SIZE))# choose crossover points\n",
    "        individual[cross_points] = pop[i_][cross_points]\n",
    "        \n",
    "    #mutate\n",
    "    if mutate:\n",
    "        x = np.random.choice([0, 1], size=DNA_SIZE*2*N**2, \n",
    "                             p=[1-MUTATION_RATE, MUTATION_RATE]).astype(bool).reshape((2,N**2,DNA_SIZE))\n",
    "        individual[x] = np.abs(individual[x] - 1)  #flip the bits\n",
    "        \n",
    "    return individual\n",
    "\n",
    "\n",
    "pop = np.random.randint(2, size=([POP_SIZE, 2, N**2, DNA_SIZE]))\n",
    "\n",
    "#-----------------For plotting\n",
    "plt.ion()\n",
    "fig, ax = plt.subplots()\n",
    "gen, cmi_list = [],[]\n",
    "ax.scatter(gen,cmi_list)\n",
    "plt.xlim(0,N_GENERATIONS)\n",
    "#plt.ylim(0.75,2)\n",
    "plt.plot([i for i in range(N_GENERATIONS)], \n",
    "         [0.5*np.log2(3) for j in range(N_GENERATIONS)]) #this plots the upper bound in the paper.\n",
    "plt.draw()\n",
    "plt.xlabel(\"Generations\")\n",
    "plt.ylabel(\"Squashed entanglement estimate\")\n",
    "#-----------------------------\n",
    "\n",
    "for _ in range(N_GENERATIONS):\n",
    "    F_values = F(translateDNA(pop))    # compute function value by extracting DNA\n",
    "    cmi_list.append(np.max(F_values))\n",
    "    #-------plot\n",
    "    ax.scatter(_, cmi_list[-1], c='red')\n",
    "    plt.pause(0.05)\n",
    "    #-------\n",
    "\n",
    "    # GA part (evolution)\n",
    "    fitness = get_fitness(F_values) #FIXED\n",
    "    pop = select(pop, fitness)\n",
    "    pop_copy = pop.copy()\n",
    "    for parent in pop:\n",
    "        child = crossover_and_mutate(parent, pop_copy, len(cmi_list)>1 and cmi_list[-1]==cmi_list[-2]) \n",
    "        parent[:] = child       # parent is replaced by its child\n",
    "\n",
    "plt.ioff()"
   ]
  },
  {
   "cell_type": "code",
   "execution_count": 14,
   "metadata": {},
   "outputs": [
    {
     "name": "stdout",
     "output_type": "stream",
     "text": [
      "0.792481250197\n",
      "0.792481250361\n",
      "0.7924812503605781\n"
     ]
    }
   ],
   "source": [
    "#Upper bound in the paper can be surpassed.\n",
    "import math\n",
    "print(min(cmi_list))\n",
    "print(0.5*np.log2(3))\n",
    "print(0.5*math.log(3, 2))"
   ]
  },
  {
   "cell_type": "markdown",
   "metadata": {},
   "source": [
    "### Now trying the Werner states"
   ]
  },
  {
   "cell_type": "code",
   "execution_count": 77,
   "metadata": {},
   "outputs": [],
   "source": [
    "#-------Werner states from (Cope et al. 2018)\n",
    "d = 2\n",
    "eta = -0.25  #number between -1 and 0\n",
    "A_dim = d\n",
    "B_dim = d\n",
    "F_dim = 2\n",
    "\n",
    "F = 0\n",
    "for i in range(d):\n",
    "    for j in range(d):\n",
    "        F = F + tensor(basis(d,i), basis(d,j)) * tensor(basis(d,j), basis(d,i)).dag()\n",
    "\n",
    "        \n",
    "\n",
    "rhoAB = (1/(d - eta) * ( (d-eta)*tensor(identity(d), \n",
    "                                       identity(d)) + (d*eta - 1)*F )).unit()\n",
    "\n",
    "\n",
    "ket_ABE = purify(rhoAB)\n",
    "temp_psi_ABEF = tensor(ket_ABE, basis(F_dim,0))\n",
    "rhoABEF = ket2dm(temp_psi_ABEF)\n",
    "\n",
    "N = A_dim * B_dim * F_dim\n",
    "\n",
    "\n",
    "#-------------\n",
    "\n",
    "first_bound_48 = np.log2(d) + (1+eta)/4 * np.log2((1+eta) / (d*(d+1))) + (1-eta)/4 * np.log2((1-eta) / (d*(d-1)))\n",
    "\n",
    "if d%2==0:\n",
    "    second_bound_53 = -eta * np.log2((d + 2) / d)\n",
    "else:\n",
    "    second_bound_53 = -0.5 * eta * np.log2((d + 3) / (d - 1))"
   ]
  },
  {
   "cell_type": "code",
   "execution_count": 79,
   "metadata": {},
   "outputs": [
    {
     "name": "stderr",
     "output_type": "stream",
     "text": [
      "C:\\Users\\basse\\Anaconda3\\envs\\qutip\\lib\\site-packages\\ipykernel_launcher.py:24: RuntimeWarning: invalid value encountered in true_divide\n",
      "C:\\Users\\basse\\Anaconda3\\envs\\qutip\\lib\\site-packages\\ipykernel_launcher.py:24: RuntimeWarning: invalid value encountered in less\n"
     ]
    },
    {
     "ename": "KeyboardInterrupt",
     "evalue": "",
     "output_type": "error",
     "traceback": [
      "\u001b[1;31m---------------------------------------------------------------------------\u001b[0m",
      "\u001b[1;31mKeyboardInterrupt\u001b[0m                         Traceback (most recent call last)",
      "\u001b[1;32m<ipython-input-79-020145955fbb>\u001b[0m in \u001b[0;36m<module>\u001b[1;34m()\u001b[0m\n\u001b[0;32m     63\u001b[0m     \u001b[1;31m#-------plot\u001b[0m\u001b[1;33m\u001b[0m\u001b[1;33m\u001b[0m\u001b[0m\n\u001b[0;32m     64\u001b[0m     \u001b[0max\u001b[0m\u001b[1;33m.\u001b[0m\u001b[0mscatter\u001b[0m\u001b[1;33m(\u001b[0m\u001b[0m_\u001b[0m\u001b[1;33m,\u001b[0m \u001b[0mcmi_list\u001b[0m\u001b[1;33m[\u001b[0m\u001b[1;33m-\u001b[0m\u001b[1;36m1\u001b[0m\u001b[1;33m]\u001b[0m\u001b[1;33m,\u001b[0m \u001b[0mc\u001b[0m\u001b[1;33m=\u001b[0m\u001b[1;34m'red'\u001b[0m\u001b[1;33m)\u001b[0m\u001b[1;33m\u001b[0m\u001b[0m\n\u001b[1;32m---> 65\u001b[1;33m     \u001b[0mplt\u001b[0m\u001b[1;33m.\u001b[0m\u001b[0mpause\u001b[0m\u001b[1;33m(\u001b[0m\u001b[1;36m0.05\u001b[0m\u001b[1;33m)\u001b[0m\u001b[1;33m\u001b[0m\u001b[0m\n\u001b[0m\u001b[0;32m     66\u001b[0m     \u001b[1;31m#-------\u001b[0m\u001b[1;33m\u001b[0m\u001b[1;33m\u001b[0m\u001b[0m\n\u001b[0;32m     67\u001b[0m \u001b[1;33m\u001b[0m\u001b[0m\n",
      "\u001b[1;32m~\\Anaconda3\\envs\\qutip\\lib\\site-packages\\matplotlib\\pyplot.py\u001b[0m in \u001b[0;36mpause\u001b[1;34m(interval)\u001b[0m\n\u001b[0;32m    297\u001b[0m         \u001b[0mcanvas\u001b[0m\u001b[1;33m.\u001b[0m\u001b[0mstart_event_loop\u001b[0m\u001b[1;33m(\u001b[0m\u001b[0minterval\u001b[0m\u001b[1;33m)\u001b[0m\u001b[1;33m\u001b[0m\u001b[0m\n\u001b[0;32m    298\u001b[0m     \u001b[1;32melse\u001b[0m\u001b[1;33m:\u001b[0m\u001b[1;33m\u001b[0m\u001b[0m\n\u001b[1;32m--> 299\u001b[1;33m         \u001b[0mtime\u001b[0m\u001b[1;33m.\u001b[0m\u001b[0msleep\u001b[0m\u001b[1;33m(\u001b[0m\u001b[0minterval\u001b[0m\u001b[1;33m)\u001b[0m\u001b[1;33m\u001b[0m\u001b[0m\n\u001b[0m\u001b[0;32m    300\u001b[0m \u001b[1;33m\u001b[0m\u001b[0m\n\u001b[0;32m    301\u001b[0m \u001b[1;33m\u001b[0m\u001b[0m\n",
      "\u001b[1;31mKeyboardInterrupt\u001b[0m: "
     ]
    }
   ],
   "source": [
    "DNA_SIZE = 30           # DNA length   # size of each number in the lists X and Y\n",
    "POP_SIZE = 100           # population size\n",
    "CROSS_RATE = 0.001         # mating probability (DNA crossover)\n",
    "MUTATION_RATE = 0.001    # mutation probability\n",
    "N_GENERATIONS = 1000\n",
    "\n",
    "\n",
    "def F(Us):\n",
    "    return 0.5 * np.array([cond_entropy_mutual((tensor(identity(A_dim), identity(B_dim), U) * rhoABEF * tensor(identity(A_dim), identity(B_dim), U).dag()).ptrace([0,1,2,3]) ) for U in Us]) \n",
    "\n",
    "    \n",
    "# find non-zero fitness for selection.\n",
    "def get_fitness(pred): return 1/pred - 1/np.max(pred)  #fitness is highest when cmi is lowest\n",
    "\n",
    "# convert binary DNA to decimal and normalize it to a range(0, 1). Modified: takes unitary seeding list. returns a Unitary\n",
    "def translateDNA(pop):\n",
    "    Z = pop.dot(2 ** np.arange(DNA_SIZE)[::-1]) / (2**DNA_SIZE-1)\n",
    "    return np.array([rand_unitary_mod(N, Z[i,0], Z[i,1], density=1, dims=[[A_dim,B_dim, F_dim], [A_dim,B_dim, F_dim]])  \n",
    "                     for i in range(POP_SIZE)])  #The unitary has dims [A_dim, B_dim, F_dim] because the purifying system has dims\n",
    "#[A_dim, B_dim]\n",
    "\n",
    "# nature selection wrt pop's fitness.\n",
    "def select(pop, fitness):    \n",
    "    idx = np.random.choice(np.arange(POP_SIZE), size=POP_SIZE, replace=True, p=fitness/fitness.sum())\n",
    "    return pop[idx]\n",
    "\n",
    "# mating process (genes crossover).\n",
    "def crossover_and_mutate(individual, pop, mutate=False):\n",
    "    #crossover\n",
    "    if np.random.rand() < CROSS_RATE:\n",
    "        i_ = np.random.randint(0, POP_SIZE, size=1)[0]                        # select another individual from pop\n",
    "        cross_points = np.random.randint(0, 2, size=DNA_SIZE*2*N**2).astype(bool).reshape((2,N**2,DNA_SIZE))# choose crossover points\n",
    "        individual[cross_points] = pop[i_][cross_points]\n",
    "        \n",
    "    #mutate\n",
    "    if mutate:\n",
    "        x = np.random.choice([0, 1], size=DNA_SIZE*2*N**2, \n",
    "                             p=[1-MUTATION_RATE, MUTATION_RATE]).astype(bool).reshape((2,N**2,DNA_SIZE))\n",
    "        individual[x] = np.abs(individual[x] - 1)  #flip the bits\n",
    "        \n",
    "    return individual\n",
    "\n",
    "\n",
    "pop = np.random.randint(2, size=([POP_SIZE, 2, N**2, DNA_SIZE]))\n",
    "\n",
    "#-----------------For plotting\n",
    "plt.ion()\n",
    "fig, ax = plt.subplots()\n",
    "gen, cmi_list = [],[]\n",
    "ax.scatter(gen,cmi_list)\n",
    "plt.xlim(0,N_GENERATIONS)\n",
    "plt.ylim(0,1)\n",
    "plt.plot([i for i in range(N_GENERATIONS)], [first_bound_48 for j in range(N_GENERATIONS)], c='red')\n",
    "plt.plot([i for i in range(N_GENERATIONS)], [second_bound_53 for j in range(N_GENERATIONS)], c='blue')\n",
    "plt.draw()\n",
    "plt.xlabel(\"Generations\")\n",
    "plt.ylabel(\"Squashed entanglement estimate\")\n",
    "#-----------------------------\n",
    "\n",
    "for _ in range(N_GENERATIONS):\n",
    "    F_values = F(translateDNA(pop))    # compute function value by extracting DNA\n",
    "    cmi_list.append(np.max(F_values))\n",
    "    #-------plot\n",
    "    ax.scatter(_, cmi_list[-1], c='red')\n",
    "    plt.pause(0.05)\n",
    "    #-------\n",
    "\n",
    "    # GA part (evolution)\n",
    "    fitness = get_fitness(F_values) #FIXED\n",
    "    pop = select(pop, fitness)\n",
    "    pop_copy = pop.copy()\n",
    "    for parent in pop:\n",
    "        child = crossover_and_mutate(parent, pop_copy, len(cmi_list)>1 and cmi_list[-1]==cmi_list[-2]) \n",
    "        parent[:] = child       # parent is replaced by its child\n",
    "\n",
    "plt.ioff()"
   ]
  },
  {
   "cell_type": "code",
   "execution_count": null,
   "metadata": {},
   "outputs": [],
   "source": []
  }
 ],
 "metadata": {
  "kernelspec": {
   "display_name": "Python 3",
   "language": "python",
   "name": "python3"
  },
  "language_info": {
   "codemirror_mode": {
    "name": "ipython",
    "version": 3
   },
   "file_extension": ".py",
   "mimetype": "text/x-python",
   "name": "python",
   "nbconvert_exporter": "python",
   "pygments_lexer": "ipython3",
   "version": "3.5.4"
  }
 },
 "nbformat": 4,
 "nbformat_minor": 2
}
