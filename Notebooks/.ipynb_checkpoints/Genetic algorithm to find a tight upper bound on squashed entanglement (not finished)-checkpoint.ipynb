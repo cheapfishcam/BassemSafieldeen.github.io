{
 "cells": [
  {
   "cell_type": "markdown",
   "metadata": {},
   "source": [
    "### The evolutionary algorithm is an adaptation of [MourvanZhou's evolutionary algorithm code](https://github.com/MorvanZhou/Evolutionary-Algorithm/blob/master/tutorial-contents/Genetic%20Algorithm/Genetic%20Algorithm%20Basic.py) ###"
   ]
  },
  {
   "cell_type": "markdown",
   "metadata": {},
   "source": [
    "### Squashed entanglement of a state ###"
   ]
  },
  {
   "cell_type": "code",
   "execution_count": 8,
   "metadata": {},
   "outputs": [
    {
     "name": "stdout",
     "output_type": "stream",
     "text": [
      "Using matplotlib backend: Qt5Agg\n"
     ]
    }
   ],
   "source": [
    "from qutip import *\n",
    "from scipy import arcsin, sqrt, pi\n",
    "import numpy as np\n",
    "import scipy.sparse as sp\n",
    "from qutip.qobj import Qobj\n",
    "%matplotlib\n",
    "import matplotlib.pyplot as plt\n",
    "import itertools\n",
    "import copy"
   ]
  },
  {
   "cell_type": "markdown",
   "metadata": {},
   "source": [
    "Defining some fuctions"
   ]
  },
  {
   "cell_type": "code",
   "execution_count": 2,
   "metadata": {},
   "outputs": [],
   "source": [
    "#rhoABE is a tripartite density matrix with the third subsystem being the ancilla (ancilla is bi-partite)\n",
    "def cond_entropy_mutual(rhoABE):  \n",
    "    AE = rhoABE.ptrace([0, 2, 3]);\n",
    "    BE = rhoABE.ptrace([1, 2, 3]);\n",
    "    ABE = rhoABE;\n",
    "    E = rhoABE.ptrace([2, 3]);\n",
    "    return entropy_vn(AE,2) + entropy_vn(BE,2) - entropy_vn(ABE,2) - entropy_vn(E,2); \n",
    "\n",
    "\n",
    "def rand_herm_mod(N, X, Y, density=1, dims=None):      #this is a modified version of the rand_herm function from QuTip\n",
    "    if dims:\n",
    "        _check_dims(dims, N, N)\n",
    "    # to get appropriate density of output\n",
    "    # Hermitian operator must convert via:\n",
    "    herm_density = 2.0 * arcsin(density) / pi\n",
    "\n",
    "    X_int = sp.rand(N, N, herm_density, format='csr')\n",
    "    X_int.data = X - 0.5\n",
    "    Y_int = X_int.copy()\n",
    "    Y_int.data = 1.0j * Y - (0.5 + 0.5j)\n",
    "    X_int = X_int + Y_int\n",
    "    X_int.sort_indices()\n",
    "    X_int = Qobj(X_int)\n",
    "    if dims:\n",
    "        return Qobj((X_int + X_int.dag()) / 2.0, dims=dims, shape=[N, N])\n",
    "    else:\n",
    "        return Qobj((X_int + X_int.dag()) / 2.0)\n",
    "    \n",
    "\n",
    "def rand_unitary_mod(N, X, Y, density=1, dims=None):    #this is a modified version of the rand_unitary function from QuTip\n",
    "    #if dims:\n",
    "    #    _check_dims(dims, N, N)\n",
    "    U = (-1.0j * rand_herm_mod(N, X, Y, density)).expm()\n",
    "    U.data.sort_indices()\n",
    "    if dims:\n",
    "        return Qobj(U, dims=dims, shape=[N, N])\n",
    "    else:\n",
    "        return Qobj(U)\n",
    "\n",
    "\n",
    "    \n",
    "def _check_dims(dims, N1, N2):   #this function is taken directly from QuTip\n",
    "    if len(dims) != 2:\n",
    "        raise Exception(\"Qobj dimensions must be list of length 2.\")\n",
    "    if (not isinstance(dims[0], list)) or (not isinstance(dims[1], list)):\n",
    "        raise TypeError(\n",
    "            \"Qobj dimension components must be lists. i.e. dims=[[N],[N]]\")\n",
    "    if np.prod(dims[0]) != N1 or np.prod(dims[1]) != N2:\n",
    "        raise ValueError(\"Qobj dimensions must match matrix shape.\")\n",
    "    if len(dims[0]) != len(dims[1]):\n",
    "        raise TypeError(\"Qobj dimension components must have same length.\")"
   ]
  },
  {
   "cell_type": "markdown",
   "metadata": {},
   "source": [
    "The adapted genetic algorithm. \n",
    "Each individual in the population is a list of two lists X and Y that seed a unitary."
   ]
  },
  {
   "cell_type": "code",
   "execution_count": 3,
   "metadata": {},
   "outputs": [],
   "source": [
    "#Adding the ancillary system\n",
    "F_dim = 2\n",
    "#E_dim = 2  #Dimension of the ancilla system\n",
    "A_dim = 3\n",
    "B_dim = 3\n",
    "#Writing down the bi-partite system's density matrix. Different states.\n",
    "\n",
    "#A random state. Changes every time this cell is executed.\n",
    "#rhoAB = rand_dm(4, 0.5, dims=[[2,2], [2,2]]);\n",
    "\n",
    "#The state in (page 4, Christandl and Winter 2003)\n",
    "ket1 = (tensor(basis(3,1),basis(3,2)) - tensor(basis(3,2),basis(3,1))).unit()\n",
    "ket2 = (tensor(basis(3,2),basis(3,0)) - tensor(basis(3,0),basis(3,2))).unit()\n",
    "ket3 = (tensor(basis(3,0),basis(3,1)) - tensor(basis(3,1),basis(3,0))).unit()\n",
    "rhoAB = (ket2dm(ket1) + ket2dm(ket2) + ket2dm(ket3)).unit()\n",
    "\n",
    "\n",
    "ket_pure_ABE = (tensor(ket1, ket1) + tensor(ket2, ket2) + tensor(ket3, ket3)).unit()\n",
    "#print(ket_pure_ABE)\n",
    "\n",
    "temp_psi_ABEF = tensor(ket_pure_ABE, basis(F_dim,0))\n",
    "temp_rho_ABEF = ket2dm(temp_psi_ABEF)\n",
    "\n",
    "#print(temp_rho_ABEF)"
   ]
  },
  {
   "cell_type": "code",
   "execution_count": 9,
   "metadata": {},
   "outputs": [
    {
     "name": "stderr",
     "output_type": "stream",
     "text": [
      "C:\\Users\\basse\\Anaconda3\\envs\\qutip\\lib\\site-packages\\ipykernel_launcher.py:34: RuntimeWarning: invalid value encountered in true_divide\n",
      "C:\\Users\\basse\\Anaconda3\\envs\\qutip\\lib\\site-packages\\ipykernel_launcher.py:34: RuntimeWarning: invalid value encountered in less\n"
     ]
    },
    {
     "ename": "KeyboardInterrupt",
     "evalue": "",
     "output_type": "error",
     "traceback": [
      "\u001b[1;31m---------------------------------------------------------------------------\u001b[0m",
      "\u001b[1;31mKeyboardInterrupt\u001b[0m                         Traceback (most recent call last)",
      "\u001b[1;32m<ipython-input-9-a661639ccfef>\u001b[0m in \u001b[0;36m<module>\u001b[1;34m()\u001b[0m\n\u001b[0;32m     80\u001b[0m     \u001b[0mpop_copy\u001b[0m \u001b[1;33m=\u001b[0m \u001b[0mpop\u001b[0m\u001b[1;33m.\u001b[0m\u001b[0mcopy\u001b[0m\u001b[1;33m(\u001b[0m\u001b[1;33m)\u001b[0m\u001b[1;33m\u001b[0m\u001b[0m\n\u001b[0;32m     81\u001b[0m     \u001b[1;32mfor\u001b[0m \u001b[0mparent\u001b[0m \u001b[1;32min\u001b[0m \u001b[0mpop\u001b[0m\u001b[1;33m:\u001b[0m\u001b[1;33m\u001b[0m\u001b[0m\n\u001b[1;32m---> 82\u001b[1;33m         \u001b[0mchild\u001b[0m \u001b[1;33m=\u001b[0m \u001b[0mcrossover_and_mutate\u001b[0m\u001b[1;33m(\u001b[0m\u001b[0mparent\u001b[0m\u001b[1;33m,\u001b[0m \u001b[0mpop_copy\u001b[0m\u001b[1;33m,\u001b[0m \u001b[0mlen\u001b[0m\u001b[1;33m(\u001b[0m\u001b[0mcmi_list\u001b[0m\u001b[1;33m)\u001b[0m\u001b[1;33m>\u001b[0m\u001b[1;36m1\u001b[0m \u001b[1;32mand\u001b[0m \u001b[0mcmi_list\u001b[0m\u001b[1;33m[\u001b[0m\u001b[1;33m-\u001b[0m\u001b[1;36m1\u001b[0m\u001b[1;33m]\u001b[0m\u001b[1;33m==\u001b[0m\u001b[0mcmi_list\u001b[0m\u001b[1;33m[\u001b[0m\u001b[1;33m-\u001b[0m\u001b[1;36m2\u001b[0m\u001b[1;33m]\u001b[0m\u001b[1;33m)\u001b[0m\u001b[1;33m\u001b[0m\u001b[0m\n\u001b[0m\u001b[0;32m     83\u001b[0m         \u001b[0mparent\u001b[0m\u001b[1;33m[\u001b[0m\u001b[1;33m:\u001b[0m\u001b[1;33m]\u001b[0m \u001b[1;33m=\u001b[0m \u001b[0mchild\u001b[0m       \u001b[1;31m# parent is replaced by its child\u001b[0m\u001b[1;33m\u001b[0m\u001b[0m\n\u001b[0;32m     84\u001b[0m \u001b[1;33m\u001b[0m\u001b[0m\n",
      "\u001b[1;32m<ipython-input-9-a661639ccfef>\u001b[0m in \u001b[0;36mcrossover_and_mutate\u001b[1;34m(individual, pop, mutate)\u001b[0m\n\u001b[0;32m     46\u001b[0m     \u001b[1;32mif\u001b[0m \u001b[0mmutate\u001b[0m\u001b[1;33m:\u001b[0m\u001b[1;33m\u001b[0m\u001b[0m\n\u001b[0;32m     47\u001b[0m         x = np.random.choice([0, 1], size=DNA_SIZE*2*N**2, \n\u001b[1;32m---> 48\u001b[1;33m                              p=[1-MUTATION_RATE, MUTATION_RATE]).astype(bool).reshape((2,N**2,DNA_SIZE))\n\u001b[0m\u001b[0;32m     49\u001b[0m         \u001b[0mindividual\u001b[0m\u001b[1;33m[\u001b[0m\u001b[0mx\u001b[0m\u001b[1;33m]\u001b[0m \u001b[1;33m=\u001b[0m \u001b[0mnp\u001b[0m\u001b[1;33m.\u001b[0m\u001b[0mabs\u001b[0m\u001b[1;33m(\u001b[0m\u001b[0mindividual\u001b[0m\u001b[1;33m[\u001b[0m\u001b[0mx\u001b[0m\u001b[1;33m]\u001b[0m \u001b[1;33m-\u001b[0m \u001b[1;36m1\u001b[0m\u001b[1;33m)\u001b[0m  \u001b[1;31m#flip the bits\u001b[0m\u001b[1;33m\u001b[0m\u001b[0m\n\u001b[0;32m     50\u001b[0m \u001b[1;33m\u001b[0m\u001b[0m\n",
      "\u001b[1;31mKeyboardInterrupt\u001b[0m: "
     ]
    }
   ],
   "source": [
    "N = A_dim * B_dim * F_dim\n",
    "#rhoE = ket2dm(basis(E_dim,0)) #|0...0><0...0|\n",
    "#rhoABE = tensor(rhoAB,rhoE)\n",
    "\n",
    "DNA_SIZE = 30           # DNA length   # size of each number in the lists X and Y\n",
    "POP_SIZE = 100           # population size\n",
    "CROSS_RATE = 0.001         # mating probability (DNA crossover)\n",
    "MUTATION_RATE = 0.001    # mutation probability\n",
    "N_GENERATIONS = 1000\n",
    "#X_BOUND = [0, 1]         # x upper and lower bounds. Modified: changed the bound\n",
    "\n",
    "\n",
    "def F(Us): #modified: out F is the conditional mutual information. FIXED\n",
    "    return 0.5 * np.array([cond_entropy_mutual((tensor(identity(A_dim), identity(B_dim), U) * temp_rho_ABEF * tensor(identity(A_dim), identity(B_dim), U).dag()).ptrace([0,1,2,3]) ) for U in Us]) \n",
    "    #return 0.5 * np.array([cond_entropy_mutual(( tensor(identity(A_dim) ,identity(B_dim), identity(A_dim), identity(B_dim), identity(F_dim)) * temp_rho_ABEF * \n",
    "    #                                    tensor(identity(A_dim) ,identity(B_dim), identity(A_dim), identity(B_dim), identity(F_dim))).ptrace([0,1,2,3]) ) for U in Us]) \n",
    "\n",
    "    \n",
    "# find non-zero fitness for selection. FIXED\n",
    "def get_fitness(pred): return 1/pred - 1/np.max(pred)  #modified: fitness is highest when cmi is lowest\n",
    "\n",
    "# convert binary DNA to decimal and normalize it to a range(0, 1). Modified: takes unitary seeding list. returns a Unitary\n",
    "def translateDNA(pop): # FIXED\n",
    "    Z = pop.dot(2 ** np.arange(DNA_SIZE)[::-1]) / (2**DNA_SIZE-1)\n",
    "    return np.array([rand_unitary_mod(N, Z[i,0], Z[i,1], density=1, dims=[[A_dim,B_dim, F_dim], [A_dim,B_dim, F_dim]])  \n",
    "                     for i in range(POP_SIZE)])\n",
    "\n",
    "# nature selection wrt pop's fitness. Not modified. Should work as it is. FIXED\n",
    "def select(pop, fitness):    \n",
    "    idx = np.random.choice(np.arange(POP_SIZE), size=POP_SIZE, replace=True, p=fitness/fitness.sum())\n",
    "    return pop[idx]\n",
    "\n",
    "# mating process (genes crossover).\n",
    "def crossover_and_mutate(individual, pop, mutate=False):\n",
    "    #crossover\n",
    "    if np.random.rand() < CROSS_RATE:\n",
    "        i_ = np.random.randint(0, POP_SIZE, size=1)[0]                        # select another individual from pop\n",
    "        cross_points = np.random.randint(0, 2, size=DNA_SIZE*2*N**2).astype(bool).reshape((2,N**2,DNA_SIZE))# choose crossover points\n",
    "        individual[cross_points] = pop[i_][cross_points]\n",
    "        \n",
    "    #mutate\n",
    "    if mutate:\n",
    "        x = np.random.choice([0, 1], size=DNA_SIZE*2*N**2, \n",
    "                             p=[1-MUTATION_RATE, MUTATION_RATE]).astype(bool).reshape((2,N**2,DNA_SIZE))\n",
    "        individual[x] = np.abs(individual[x] - 1)  #flip the bits\n",
    "        \n",
    "    return individual\n",
    "\n",
    "\n",
    "pop = np.random.randint(2, size=([POP_SIZE, 2, N**2, DNA_SIZE]))\n",
    "\n",
    "#cmi_list = []\n",
    "\n",
    "plt.ion()\n",
    "fig, ax = plt.subplots()\n",
    "gen, cmi_list = [],[]\n",
    "ax.scatter(gen,cmi_list)\n",
    "plt.xlim(0,N_GENERATIONS)\n",
    "plt.ylim(0.78,0.8)\n",
    "plt.plot([i for i in range(N_GENERATIONS)], [0.5*np.log2(3) for j in range(N_GENERATIONS)])\n",
    "plt.draw()\n",
    "plt.xlabel(\"Generations\")\n",
    "plt.ylabel(\"Squashed entanglement estimate\")\n",
    "\n",
    "for _ in range(N_GENERATIONS):\n",
    "    F_values = F(translateDNA(pop))    # compute function value by extracting DNA\n",
    "    #F_values = [F(translateDNA(np.array(ind))) for ind in pop]\n",
    "    cmi_list.append(np.max(F_values))\n",
    "    ax.scatter(_, cmi_list[-1], c='red')\n",
    "    plt.pause(0.05)\n",
    "\n",
    "\n",
    "    # GA part (evolution)\n",
    "    fitness = get_fitness(F_values) #FIXED\n",
    "    pop = select(pop, fitness)\n",
    "    pop_copy = pop.copy()\n",
    "    for parent in pop:\n",
    "        child = crossover_and_mutate(parent, pop_copy, len(cmi_list)>1 and cmi_list[-1]==cmi_list[-2]) \n",
    "        parent[:] = child       # parent is replaced by its child\n",
    "\n",
    "plt.ioff()"
   ]
  }
 ],
 "metadata": {
  "kernelspec": {
   "display_name": "Python 3",
   "language": "python",
   "name": "python3"
  },
  "language_info": {
   "codemirror_mode": {
    "name": "ipython",
    "version": 3
   },
   "file_extension": ".py",
   "mimetype": "text/x-python",
   "name": "python",
   "nbconvert_exporter": "python",
   "pygments_lexer": "ipython3",
   "version": "3.5.4"
  }
 },
 "nbformat": 4,
 "nbformat_minor": 2
}
