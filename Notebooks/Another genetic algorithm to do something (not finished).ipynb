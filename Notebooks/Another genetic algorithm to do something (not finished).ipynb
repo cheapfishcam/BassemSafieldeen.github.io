{
 "cells": [
  {
   "cell_type": "markdown",
   "metadata": {},
   "source": [
    "### This genetic algorithm is an adaptation of [MourvanZhou's evolutionary algorithm code](https://github.com/MorvanZhou/Evolutionary-Algorithm/blob/master/tutorial-contents/Genetic%20Algorithm/Genetic%20Algorithm%20Basic.py) ###"
   ]
  },
  {
   "cell_type": "code",
   "execution_count": 3,
   "metadata": {},
   "outputs": [
    {
     "name": "stdout",
     "output_type": "stream",
     "text": [
      "Using matplotlib backend: Qt5Agg\n"
     ]
    }
   ],
   "source": [
    "from qutip import *\n",
    "from scipy import arcsin, sqrt, pi, sin, cos\n",
    "import numpy as np\n",
    "import scipy.sparse as sp\n",
    "from qutip.qobj import Qobj\n",
    "%matplotlib\n",
    "import matplotlib.pyplot as plt\n",
    "import itertools\n",
    "import copy\n",
    "from math import log2\n",
    "from scipy.optimize import minimize\n",
    "from IPython.core.display import clear_output"
   ]
  },
  {
   "cell_type": "code",
   "execution_count": 43,
   "metadata": {},
   "outputs": [],
   "source": [
    "INPUT_STATES = 4 # at most 16"
   ]
  },
  {
   "cell_type": "code",
   "execution_count": 51,
   "metadata": {},
   "outputs": [],
   "source": [
    "def h(x):  #binary entropy\n",
    "    return -x*log2(x) - (1-x)*log2(1-x)\n",
    "\n",
    "def calc_XN(p):\n",
    "    def calc_XN_tmp(q):\n",
    "        tmp = h(q * (1-p)) - h(0.5*(1+sqrt(1-4*p*(1-p)*q**2)))\n",
    "        return 1/tmp\n",
    "\n",
    "    res = minimize(calc_XN_tmp, np.array([0.5]), method='nelder-mead', \n",
    "                       options={'xtol': 1e-8, 'disp': False});\n",
    "    return 1/res.fun;\n",
    "\n",
    "\n",
    "def A_p2(rho): # this is the amplitude dampening channel on 2 qubits (2 uses). rho is a 2-qubit state.\n",
    "    #------Moved to main to optimize code\n",
    "    #KA = tensor(K1,K1)\n",
    "    #KA_dag = tensor(K1,K1).dag()\n",
    "    #KB = tensor(K1,K2)\n",
    "    #KB_dag = tensor(K1,K2).dag()\n",
    "    #KC = tensor(K2,K1)\n",
    "    #KC_dag = tensor(K2,K1).dag()\n",
    "    #KD = tensor(K2,K2)\n",
    "    #KD_dag = tensor(K2,K2).dag()\n",
    "    #--------\n",
    "\n",
    "    return  KA * rho * KA_dag + KB * rho * KB_dag + KC * rho * KC_dag + KD * rho * KD_dag \n",
    "\n",
    "\n",
    "def Func(concurrences, angles1, angles2, ps):   #This is the estimate of X(N \\tensor N)\n",
    "    \n",
    "    #rho_init = tensor(basis(2,0), basis(2,0)) * tensor(basis(2,0), basis(2,0)).dag()   #moved to main\n",
    "    #----------make the states with the given concurrences\n",
    "    XNN = []\n",
    "    for i in range(concurrences.shape[0]):\n",
    "        first_term = 0\n",
    "        second_term = 0\n",
    "        for j in range(INPUT_STATES):\n",
    "            theta = arcsin(concurrences[i,j])\n",
    "            measure = cos(theta/2) * basis(2,0) + sin(theta/2) * basis(2,1)\n",
    "            ket = (tensor(measure.dag(), identity(2), identity(2)) * ghz_state()).unit()\n",
    "            ket_rotated = tensor(ry(angles1[i,j] * 2 * pi), ry(angles2[i,j] * 2 * pi)) * ket \n",
    "            first_term = first_term + ps[i,j] * A_p2(ket2dm(ket_rotated))\n",
    "            second_term = second_term + ps[i,j] * entropy_vn(A_p2(ket2dm(ket_rotated)), base=2)\n",
    "        first_term = entropy_vn(first_term, base=2)\n",
    "        XNN.append(first_term - second_term)\n",
    "\n",
    "    return np.array(XNN)\n",
    "    \n",
    "# find non-zero fitness for selection.\n",
    "def get_fitness(pred): return pred + 1e-3 - np.min(pred)\n",
    "\n",
    "\n",
    "def translateDNA(pop):   #pop is a list of 2 np arrays. One nparray for the population of X and Y, and one nparray for the population of ps\n",
    "    pop_dec = pop.dot(2 ** np.arange(DNA_SIZE)[::-1]) / (2**DNA_SIZE-1)\n",
    "    np.sum(pop_dec[:,:,3], axis=1)\n",
    "    return [pop_dec[:,:,0], pop_dec[:,:,1], pop_dec[:,:,2], \n",
    "         pop_dec[:,:,3]/np.sum(pop_dec[:,:,3], axis=1)[:,None] ]  #conc, rot1, rot2, p\n",
    "\n",
    "# nature selection wrt pop's fitness.\n",
    "def select(pop, fitness):    \n",
    "    idx = np.random.choice(np.arange(pop.shape[0]), size=POP_SIZE, replace=True, p=fitness/fitness.sum())\n",
    "    #A = pop[0][idx]\n",
    "    #B = pop[1][idx]\n",
    "    #C = pop[2][idx]\n",
    "    #A[0] = pop[0][np.argmax(fitness)]  #makes sure the individual with highest fitness is chosen\n",
    "    #B[0] = pop[1][np.argmax(fitness)]\n",
    "    #C[0] = pop[2][np.argmax(fitness)]\n",
    "    \n",
    "    #return [A, B ,C]\n",
    "    A = pop[idx]\n",
    "    A[0] = pop[np.argmax(fitness)]\n",
    "    return A\n",
    "\n",
    "# mating process (genes crossover).\n",
    "def crossover_and_mutate(individual, pop, mutate=False):\n",
    "    #crossover\n",
    "    if np.random.rand() < CROSS_RATE:\n",
    "        i_ = np.random.randint(0, POP_SIZE, size=1)[0]                        # select another individual from pop\n",
    "        cross_points = np.random.randint(0, 2, size=4*DNA_SIZE*INPUT_STATES).astype(bool).reshape((INPUT_STATES,4,DNA_SIZE))\n",
    "        individual[cross_points] = pop[i_][cross_points]\n",
    "        \n",
    "    #mutate\n",
    "    if mutate and np.random.rand() < MUTATION_FRACTION:       \n",
    "        x = np.random.choice([0, 1], size=INPUT_STATES*4*DNA_SIZE, \n",
    "                             p=[1-MUTATION_RATE, MUTATION_RATE]).astype(bool).reshape((INPUT_STATES,4,DNA_SIZE))\n",
    "\n",
    "        individual[x] = np.abs(individual[x] - 1)\n",
    "        \n",
    "    return individual\n"
   ]
  },
  {
   "cell_type": "code",
   "execution_count": 52,
   "metadata": {},
   "outputs": [
    {
     "name": "stdout",
     "output_type": "stream",
     "text": [
      "probabilities  [ 0.23759376  0.24592001  0.26645235  0.25003387]\n",
      "angles1 (2 pi)  [ 0.4664449   0.98794519  0.50093081  0.00265511]\n",
      "angles2 (2 pi)  [ 0.49180578  0.82573931  0.00204474  0.33024079]\n",
      "concurrences  [ 0.00344859  0.09057894  0.13318278  0.04214606]\n"
     ]
    },
    {
     "ename": "KeyboardInterrupt",
     "evalue": "",
     "output_type": "error",
     "traceback": [
      "\u001b[1;31m---------------------------------------------------------------------------\u001b[0m",
      "\u001b[1;31mKeyboardInterrupt\u001b[0m                         Traceback (most recent call last)",
      "\u001b[1;32m<ipython-input-52-2ca38754c2e2>\u001b[0m in \u001b[0;36m<module>\u001b[1;34m()\u001b[0m\n\u001b[0;32m     58\u001b[0m     \u001b[1;31m#---------------------\u001b[0m\u001b[1;33m\u001b[0m\u001b[1;33m\u001b[0m\u001b[0m\n\u001b[0;32m     59\u001b[0m     \u001b[0mtranslated\u001b[0m \u001b[1;33m=\u001b[0m \u001b[0mtranslateDNA\u001b[0m\u001b[1;33m(\u001b[0m\u001b[0mpop\u001b[0m\u001b[1;33m)\u001b[0m\u001b[1;33m\u001b[0m\u001b[0m\n\u001b[1;32m---> 60\u001b[1;33m     \u001b[0mF_values\u001b[0m \u001b[1;33m=\u001b[0m \u001b[0mFunc\u001b[0m\u001b[1;33m(\u001b[0m\u001b[0mtranslated\u001b[0m\u001b[1;33m[\u001b[0m\u001b[1;36m0\u001b[0m\u001b[1;33m]\u001b[0m\u001b[1;33m,\u001b[0m \u001b[0mtranslated\u001b[0m\u001b[1;33m[\u001b[0m\u001b[1;36m1\u001b[0m\u001b[1;33m]\u001b[0m\u001b[1;33m,\u001b[0m \u001b[0mtranslated\u001b[0m\u001b[1;33m[\u001b[0m\u001b[1;36m2\u001b[0m\u001b[1;33m]\u001b[0m\u001b[1;33m,\u001b[0m \u001b[0mtranslated\u001b[0m\u001b[1;33m[\u001b[0m\u001b[1;36m3\u001b[0m\u001b[1;33m]\u001b[0m\u001b[1;33m)\u001b[0m    \u001b[1;31m# compute function value by extracting DNA\u001b[0m\u001b[1;33m\u001b[0m\u001b[0m\n\u001b[0m\u001b[0;32m     61\u001b[0m     \u001b[0mholevo\u001b[0m\u001b[1;33m.\u001b[0m\u001b[0mappend\u001b[0m\u001b[1;33m(\u001b[0m\u001b[0mnp\u001b[0m\u001b[1;33m.\u001b[0m\u001b[0mmax\u001b[0m\u001b[1;33m(\u001b[0m\u001b[0mF_values\u001b[0m\u001b[1;33m)\u001b[0m\u001b[1;33m)\u001b[0m\u001b[1;33m\u001b[0m\u001b[0m\n\u001b[0;32m     62\u001b[0m     \u001b[0mclear_output\u001b[0m\u001b[1;33m(\u001b[0m\u001b[0mwait\u001b[0m\u001b[1;33m=\u001b[0m\u001b[1;32mFalse\u001b[0m\u001b[1;33m)\u001b[0m\u001b[1;33m\u001b[0m\u001b[0m\n",
      "\u001b[1;32m<ipython-input-51-80a8c0d2eaf4>\u001b[0m in \u001b[0;36mFunc\u001b[1;34m(concurrences, angles1, angles2, ps)\u001b[0m\n\u001b[0;32m     38\u001b[0m             \u001b[0mtheta\u001b[0m \u001b[1;33m=\u001b[0m \u001b[0marcsin\u001b[0m\u001b[1;33m(\u001b[0m\u001b[0mconcurrences\u001b[0m\u001b[1;33m[\u001b[0m\u001b[0mi\u001b[0m\u001b[1;33m,\u001b[0m\u001b[0mj\u001b[0m\u001b[1;33m]\u001b[0m\u001b[1;33m)\u001b[0m\u001b[1;33m\u001b[0m\u001b[0m\n\u001b[0;32m     39\u001b[0m             \u001b[0mmeasure\u001b[0m \u001b[1;33m=\u001b[0m \u001b[0mcos\u001b[0m\u001b[1;33m(\u001b[0m\u001b[0mtheta\u001b[0m\u001b[1;33m/\u001b[0m\u001b[1;36m2\u001b[0m\u001b[1;33m)\u001b[0m \u001b[1;33m*\u001b[0m \u001b[0mbasis\u001b[0m\u001b[1;33m(\u001b[0m\u001b[1;36m2\u001b[0m\u001b[1;33m,\u001b[0m\u001b[1;36m0\u001b[0m\u001b[1;33m)\u001b[0m \u001b[1;33m+\u001b[0m \u001b[0msin\u001b[0m\u001b[1;33m(\u001b[0m\u001b[0mtheta\u001b[0m\u001b[1;33m/\u001b[0m\u001b[1;36m2\u001b[0m\u001b[1;33m)\u001b[0m \u001b[1;33m*\u001b[0m \u001b[0mbasis\u001b[0m\u001b[1;33m(\u001b[0m\u001b[1;36m2\u001b[0m\u001b[1;33m,\u001b[0m\u001b[1;36m1\u001b[0m\u001b[1;33m)\u001b[0m\u001b[1;33m\u001b[0m\u001b[0m\n\u001b[1;32m---> 40\u001b[1;33m             \u001b[0mket\u001b[0m \u001b[1;33m=\u001b[0m \u001b[1;33m(\u001b[0m\u001b[0mtensor\u001b[0m\u001b[1;33m(\u001b[0m\u001b[0mmeasure\u001b[0m\u001b[1;33m.\u001b[0m\u001b[0mdag\u001b[0m\u001b[1;33m(\u001b[0m\u001b[1;33m)\u001b[0m\u001b[1;33m,\u001b[0m \u001b[0midentity\u001b[0m\u001b[1;33m(\u001b[0m\u001b[1;36m2\u001b[0m\u001b[1;33m)\u001b[0m\u001b[1;33m,\u001b[0m \u001b[0midentity\u001b[0m\u001b[1;33m(\u001b[0m\u001b[1;36m2\u001b[0m\u001b[1;33m)\u001b[0m\u001b[1;33m)\u001b[0m \u001b[1;33m*\u001b[0m \u001b[0mghz_state\u001b[0m\u001b[1;33m(\u001b[0m\u001b[1;33m)\u001b[0m\u001b[1;33m)\u001b[0m\u001b[1;33m.\u001b[0m\u001b[0munit\u001b[0m\u001b[1;33m(\u001b[0m\u001b[1;33m)\u001b[0m\u001b[1;33m\u001b[0m\u001b[0m\n\u001b[0m\u001b[0;32m     41\u001b[0m             \u001b[0mket_rotated\u001b[0m \u001b[1;33m=\u001b[0m \u001b[0mtensor\u001b[0m\u001b[1;33m(\u001b[0m\u001b[0mry\u001b[0m\u001b[1;33m(\u001b[0m\u001b[0mangles1\u001b[0m\u001b[1;33m[\u001b[0m\u001b[0mi\u001b[0m\u001b[1;33m,\u001b[0m\u001b[0mj\u001b[0m\u001b[1;33m]\u001b[0m \u001b[1;33m*\u001b[0m \u001b[1;36m2\u001b[0m \u001b[1;33m*\u001b[0m \u001b[0mpi\u001b[0m\u001b[1;33m)\u001b[0m\u001b[1;33m,\u001b[0m \u001b[0mry\u001b[0m\u001b[1;33m(\u001b[0m\u001b[0mangles2\u001b[0m\u001b[1;33m[\u001b[0m\u001b[0mi\u001b[0m\u001b[1;33m,\u001b[0m\u001b[0mj\u001b[0m\u001b[1;33m]\u001b[0m \u001b[1;33m*\u001b[0m \u001b[1;36m2\u001b[0m \u001b[1;33m*\u001b[0m \u001b[0mpi\u001b[0m\u001b[1;33m)\u001b[0m\u001b[1;33m)\u001b[0m \u001b[1;33m*\u001b[0m \u001b[0mket\u001b[0m\u001b[1;33m\u001b[0m\u001b[0m\n\u001b[0;32m     42\u001b[0m             \u001b[0mfirst_term\u001b[0m \u001b[1;33m=\u001b[0m \u001b[0mfirst_term\u001b[0m \u001b[1;33m+\u001b[0m \u001b[0mps\u001b[0m\u001b[1;33m[\u001b[0m\u001b[0mi\u001b[0m\u001b[1;33m,\u001b[0m\u001b[0mj\u001b[0m\u001b[1;33m]\u001b[0m \u001b[1;33m*\u001b[0m \u001b[0mA_p2\u001b[0m\u001b[1;33m(\u001b[0m\u001b[0mket2dm\u001b[0m\u001b[1;33m(\u001b[0m\u001b[0mket_rotated\u001b[0m\u001b[1;33m)\u001b[0m\u001b[1;33m)\u001b[0m\u001b[1;33m\u001b[0m\u001b[0m\n",
      "\u001b[1;32m~\\Anaconda3\\envs\\qutip\\lib\\site-packages\\qutip\\operators.py\u001b[0m in \u001b[0;36midentity\u001b[1;34m(N)\u001b[0m\n\u001b[0;32m    477\u001b[0m         \u001b[0mIdentity\u001b[0m \u001b[0moperator\u001b[0m \u001b[0mQobj\u001b[0m\u001b[1;33m.\u001b[0m\u001b[1;33m\u001b[0m\u001b[0m\n\u001b[0;32m    478\u001b[0m     \"\"\"\n\u001b[1;32m--> 479\u001b[1;33m     \u001b[1;32mreturn\u001b[0m \u001b[0mqeye\u001b[0m\u001b[1;33m(\u001b[0m\u001b[0mN\u001b[0m\u001b[1;33m)\u001b[0m\u001b[1;33m\u001b[0m\u001b[0m\n\u001b[0m\u001b[0;32m    480\u001b[0m \u001b[1;33m\u001b[0m\u001b[0m\n\u001b[0;32m    481\u001b[0m \u001b[1;33m\u001b[0m\u001b[0m\n",
      "\u001b[1;32m~\\Anaconda3\\envs\\qutip\\lib\\site-packages\\qutip\\operators.py\u001b[0m in \u001b[0;36mqeye\u001b[1;34m(N)\u001b[0m\n\u001b[0;32m    459\u001b[0m     \u001b[1;32mif\u001b[0m \u001b[0mN\u001b[0m \u001b[1;33m<\u001b[0m \u001b[1;36m0\u001b[0m\u001b[1;33m:\u001b[0m\u001b[1;33m\u001b[0m\u001b[0m\n\u001b[0;32m    460\u001b[0m         \u001b[1;32mraise\u001b[0m \u001b[0mValueError\u001b[0m\u001b[1;33m(\u001b[0m\u001b[1;34m\"N must be integer N>=0\"\u001b[0m\u001b[1;33m)\u001b[0m\u001b[1;33m\u001b[0m\u001b[0m\n\u001b[1;32m--> 461\u001b[1;33m     \u001b[1;32mreturn\u001b[0m \u001b[0mQobj\u001b[0m\u001b[1;33m(\u001b[0m\u001b[0mfast_identity\u001b[0m\u001b[1;33m(\u001b[0m\u001b[0mN\u001b[0m\u001b[1;33m)\u001b[0m\u001b[1;33m,\u001b[0m \u001b[0misherm\u001b[0m\u001b[1;33m=\u001b[0m\u001b[1;32mTrue\u001b[0m\u001b[1;33m)\u001b[0m\u001b[1;33m\u001b[0m\u001b[0m\n\u001b[0m\u001b[0;32m    462\u001b[0m \u001b[1;33m\u001b[0m\u001b[0m\n\u001b[0;32m    463\u001b[0m \u001b[1;33m\u001b[0m\u001b[0m\n",
      "\u001b[1;32m~\\Anaconda3\\envs\\qutip\\lib\\site-packages\\qutip\\qobj.py\u001b[0m in \u001b[0;36m__init__\u001b[1;34m(self, inpt, dims, shape, type, isherm, copy, fast, superrep)\u001b[0m\n\u001b[0;32m    283\u001b[0m                 \u001b[0m_tmp\u001b[0m \u001b[1;33m=\u001b[0m \u001b[0minpt\u001b[0m\u001b[1;33m\u001b[0m\u001b[0m\n\u001b[0;32m    284\u001b[0m             self._data = fast_csr_matrix((_tmp.data, _tmp.indices, _tmp.indptr),\n\u001b[1;32m--> 285\u001b[1;33m                                         shape=_tmp.shape, copy=do_copy)\n\u001b[0m\u001b[0;32m    286\u001b[0m \u001b[1;33m\u001b[0m\u001b[0m\n\u001b[0;32m    287\u001b[0m             \u001b[1;32mif\u001b[0m \u001b[1;32mnot\u001b[0m \u001b[0mnp\u001b[0m\u001b[1;33m.\u001b[0m\u001b[0many\u001b[0m\u001b[1;33m(\u001b[0m\u001b[0mdims\u001b[0m\u001b[1;33m)\u001b[0m\u001b[1;33m:\u001b[0m\u001b[1;33m\u001b[0m\u001b[0m\n",
      "\u001b[1;32m~\\Anaconda3\\envs\\qutip\\lib\\site-packages\\qutip\\fastsparse.py\u001b[0m in \u001b[0;36m__init__\u001b[1;34m(self, args, shape, dtype, copy)\u001b[0m\n\u001b[0;32m     61\u001b[0m             \u001b[1;32mif\u001b[0m \u001b[0margs\u001b[0m\u001b[1;33m[\u001b[0m\u001b[1;36m2\u001b[0m\u001b[1;33m]\u001b[0m\u001b[1;33m.\u001b[0m\u001b[0mshape\u001b[0m\u001b[1;33m[\u001b[0m\u001b[1;36m0\u001b[0m\u001b[1;33m]\u001b[0m \u001b[1;32mand\u001b[0m \u001b[0margs\u001b[0m\u001b[1;33m[\u001b[0m\u001b[1;36m1\u001b[0m\u001b[1;33m]\u001b[0m\u001b[1;33m.\u001b[0m\u001b[0mdtype\u001b[0m \u001b[1;33m!=\u001b[0m \u001b[0mnp\u001b[0m\u001b[1;33m.\u001b[0m\u001b[0mint32\u001b[0m\u001b[1;33m:\u001b[0m\u001b[1;33m\u001b[0m\u001b[0m\n\u001b[0;32m     62\u001b[0m                 \u001b[1;32mraise\u001b[0m \u001b[0mTypeError\u001b[0m\u001b[1;33m(\u001b[0m\u001b[1;34m'fast_csr_matrix allows only int32 indptr.'\u001b[0m\u001b[1;33m)\u001b[0m\u001b[1;33m\u001b[0m\u001b[0m\n\u001b[1;32m---> 63\u001b[1;33m             \u001b[0mself\u001b[0m\u001b[1;33m.\u001b[0m\u001b[0mdata\u001b[0m \u001b[1;33m=\u001b[0m \u001b[0mnp\u001b[0m\u001b[1;33m.\u001b[0m\u001b[0marray\u001b[0m\u001b[1;33m(\u001b[0m\u001b[0margs\u001b[0m\u001b[1;33m[\u001b[0m\u001b[1;36m0\u001b[0m\u001b[1;33m]\u001b[0m\u001b[1;33m,\u001b[0m \u001b[0mdtype\u001b[0m\u001b[1;33m=\u001b[0m\u001b[0mcomplex\u001b[0m\u001b[1;33m,\u001b[0m \u001b[0mcopy\u001b[0m\u001b[1;33m=\u001b[0m\u001b[0mcopy\u001b[0m\u001b[1;33m)\u001b[0m\u001b[1;33m\u001b[0m\u001b[0m\n\u001b[0m\u001b[0;32m     64\u001b[0m             \u001b[0mself\u001b[0m\u001b[1;33m.\u001b[0m\u001b[0mindices\u001b[0m \u001b[1;33m=\u001b[0m \u001b[0mnp\u001b[0m\u001b[1;33m.\u001b[0m\u001b[0marray\u001b[0m\u001b[1;33m(\u001b[0m\u001b[0margs\u001b[0m\u001b[1;33m[\u001b[0m\u001b[1;36m1\u001b[0m\u001b[1;33m]\u001b[0m\u001b[1;33m,\u001b[0m \u001b[0mdtype\u001b[0m\u001b[1;33m=\u001b[0m\u001b[0mnp\u001b[0m\u001b[1;33m.\u001b[0m\u001b[0mint32\u001b[0m\u001b[1;33m,\u001b[0m \u001b[0mcopy\u001b[0m\u001b[1;33m=\u001b[0m\u001b[0mcopy\u001b[0m\u001b[1;33m)\u001b[0m\u001b[1;33m\u001b[0m\u001b[0m\n\u001b[0;32m     65\u001b[0m             \u001b[0mself\u001b[0m\u001b[1;33m.\u001b[0m\u001b[0mindptr\u001b[0m \u001b[1;33m=\u001b[0m \u001b[0mnp\u001b[0m\u001b[1;33m.\u001b[0m\u001b[0marray\u001b[0m\u001b[1;33m(\u001b[0m\u001b[0margs\u001b[0m\u001b[1;33m[\u001b[0m\u001b[1;36m2\u001b[0m\u001b[1;33m]\u001b[0m\u001b[1;33m,\u001b[0m \u001b[0mdtype\u001b[0m\u001b[1;33m=\u001b[0m\u001b[0mnp\u001b[0m\u001b[1;33m.\u001b[0m\u001b[0mint32\u001b[0m\u001b[1;33m,\u001b[0m \u001b[0mcopy\u001b[0m\u001b[1;33m=\u001b[0m\u001b[0mcopy\u001b[0m\u001b[1;33m)\u001b[0m\u001b[1;33m\u001b[0m\u001b[0m\n",
      "\u001b[1;31mKeyboardInterrupt\u001b[0m: "
     ]
    }
   ],
   "source": [
    "p = 0.001                 #probability p in the amp. damp. channel\n",
    "DNA_SIZE = 15          # DNA length   # size of each number in the lists X and Y\n",
    "POP_SIZE = 10           # population size\n",
    "CROSS_RATE = 0.005        # mating probability (DNA crossover)\n",
    "MUTATION_RATE = 0.01    # mutation probability\n",
    "MUTATION_FRACTION = 1   #percentage of children to mutate\n",
    "N_GENERATIONS = 5000\n",
    "\n",
    "#---------------Moved from functions for optimization\n",
    "K1 = basis(2,0) * basis(2,0).dag() + sqrt(1-p) * basis(2,1) * basis(2,1).dag()\n",
    "K2 = sqrt(p) * basis(2,0) * basis(2,1).dag()\n",
    "KA = tensor(K1,K1)\n",
    "KA_dag = tensor(K1,K1).dag()\n",
    "KB = tensor(K1,K2)\n",
    "KB_dag = tensor(K1,K2).dag()\n",
    "KC = tensor(K2,K1)\n",
    "KC_dag = tensor(K2,K1).dag()\n",
    "KD = tensor(K2,K2)\n",
    "KD_dag = tensor(K2,K2).dag()\n",
    "\n",
    "#rho_init = tensor(basis(2,0), basis(2,0)) * tensor(basis(2,0), basis(2,0)).dag()\n",
    "#-------------------------\n",
    "\n",
    "#pop = []\n",
    "#pop_conc = []\n",
    "#pop_rot = []\n",
    "#pop_p = []\n",
    "#for i in range(POP_SIZE):\n",
    "    #pop_conc.append(np.random.randint(2, size=([INPUT_STATES, DNA_SIZE])))\n",
    "    #pop_rot.append(np.random.randint(2, size=([INPUT_STATES, 2, DNA_SIZE])))\n",
    "    #pop_p.append(np.random.randint(2, size=([INPUT_STATES, DNA_SIZE])))\n",
    "#pop = [np.array(pop_conc), np.array(pop_rot), np.array(pop_p)]\n",
    "pop = np.random.randint(2, size = ([POP_SIZE, INPUT_STATES, 4, DNA_SIZE])) #conc,rot1,rot2,p\n",
    "\n",
    "#-----------------For plotting\n",
    "plt.ion()\n",
    "fig, ax = plt.subplots()\n",
    "gen, holevo = [],[]\n",
    "ax.scatter(gen,holevo)\n",
    "plt.xlim(0,N_GENERATIONS)\n",
    "#plt.ylim(0.4,1.5)\n",
    "XN = calc_XN(p) # this is X(N). You need to plot 2X(N)\n",
    "plt.plot([i for i in range(N_GENERATIONS)], \n",
    "         [2*XN for j in range(N_GENERATIONS)])\n",
    "plt.draw()\n",
    "plt.xlabel(\"Generations\")\n",
    "plt.ylabel(\"X(N tensor N) estimate\")\n",
    "#-----------------------------\n",
    "\n",
    "win_flag = 0\n",
    "win_probs = 0\n",
    "win_concs = 0\n",
    "win_rot1 = 0\n",
    "win_rot2 = 0\n",
    "for _ in range(N_GENERATIONS):\n",
    "    #-=----------variable mutation rate\n",
    "    #if _ > 700: MUTATION_RATE = 0.001\n",
    "    #---------------------\n",
    "    translated = translateDNA(pop)\n",
    "    F_values = Func(translated[0], translated[1], translated[2], translated[3])    # compute function value by extracting DNA\n",
    "    holevo.append(np.max(F_values))\n",
    "    #clear_output(wait=False)\n",
    "    #print(\"probabilities \", translated[3][np.argmax(F_values)])\n",
    "    #print(\"angles1 (2 pi) \", translated[1][np.argmax(F_values)]) \n",
    "    #print(\"angles2 (2 pi) \", translated[2][np.argmax(F_values)])\n",
    "    #print(\"concurrences \", translated[0][np.argmax(F_values)])\n",
    "    \n",
    "    #-------plot\n",
    "    ax.scatter(_, holevo[-1], c='red')\n",
    "    plt.pause(0.05)\n",
    "    #-------\n",
    "\n",
    "    # GA part (evolution)\n",
    "    fitness = get_fitness(F_values) #FIXED\n",
    "    pop = select(pop, fitness)\n",
    "    pop_copy = pop.copy()\n",
    "    pop_copy_2 = pop.copy()\n",
    "    first_iter_flag = 1   #don't mutate first member (because it has the highest fitness)\n",
    "    for parent in pop:\n",
    "        child = crossover_and_mutate(parent, pop_copy, len(holevo)>1 and holevo[-1]==holevo[-2] and first_iter_flag == 0) \n",
    "        #parent[:] = child     # parent is replaced by its child\n",
    "        pop_copy_2 = np.concatenate((pop_copy_2,child[np.newaxis, ...]),axis=0)\n",
    "        first_iter_flag = 0\n",
    "    pop = pop_copy_2\n",
    "\n",
    "\n",
    "plt.ioff()"
   ]
  },
  {
   "cell_type": "code",
   "execution_count": null,
   "metadata": {},
   "outputs": [],
   "source": [
    "print(win_flag)"
   ]
  },
  {
   "cell_type": "code",
   "execution_count": null,
   "metadata": {},
   "outputs": [],
   "source": [
    "print(win_probs)"
   ]
  },
  {
   "cell_type": "code",
   "execution_count": null,
   "metadata": {},
   "outputs": [],
   "source": [
    "print(sum(win_probs))"
   ]
  },
  {
   "cell_type": "code",
   "execution_count": null,
   "metadata": {},
   "outputs": [],
   "source": [
    "print(win_concs)"
   ]
  },
  {
   "cell_type": "code",
   "execution_count": null,
   "metadata": {},
   "outputs": [],
   "source": [
    "print(win_rot1)"
   ]
  },
  {
   "cell_type": "code",
   "execution_count": null,
   "metadata": {},
   "outputs": [],
   "source": [
    "print(win_rot2)"
   ]
  },
  {
   "cell_type": "code",
   "execution_count": null,
   "metadata": {},
   "outputs": [],
   "source": []
  }
 ],
 "metadata": {
  "kernelspec": {
   "display_name": "Python 3",
   "language": "python",
   "name": "python3"
  },
  "language_info": {
   "codemirror_mode": {
    "name": "ipython",
    "version": 3
   },
   "file_extension": ".py",
   "mimetype": "text/x-python",
   "name": "python",
   "nbconvert_exporter": "python",
   "pygments_lexer": "ipython3",
   "version": "3.5.4"
  }
 },
 "nbformat": 4,
 "nbformat_minor": 2
}
